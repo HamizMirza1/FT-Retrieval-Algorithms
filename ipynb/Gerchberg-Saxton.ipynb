{
 "cells": [
  {
   "cell_type": "markdown",
   "metadata": {},
   "source": [
    "Setup\n",
    "-----\n",
    "\n",
    "- Import `numpy` and `matplotlib`.\n",
    "- Define some helper functions.\n",
    "  - `randunif`: Generate a random vector\n",
    "  - `random_frame`: Generates a frame matrix. This gives us the frame vectors as well as the analysis/synthesis operators.\n",
    "  - `gs_phaseless`: Does the Gerchberg-Saxton algorithm for a real vector.\n",
    "  - `stemplot`: Plots the known solution with the retrieved vector."
   ]
  },
  {
   "cell_type": "code",
   "execution_count": 1,
   "metadata": {},
   "outputs": [],
   "source": [
    "import numpy as np\n",
    "import matplotlib.pyplot as plt\n",
    "\n",
    "def randunif(n, a=0, b=1, seed=None):\n",
    "    '''\n",
    "    Generate a uniform random vector\n",
    "    '''\n",
    "    rng = np.random.default_rng(seed) # random number generator\n",
    "    return (b-a) * rng.random(n) + a  # uniform distribution\n",
    "\n",
    "\n",
    "def random_frame(input_dimension, redundancy=2, frame_dimension=None, seed=None):\n",
    "    '''\n",
    "    Generate a matrix whose rows are frame vectors\n",
    "    '''\n",
    "    n = input_dimension\n",
    "    if frame_dimension is None:\n",
    "        m = int(input_dimension * redundancy)\n",
    "    else:\n",
    "        m = frame_dimension\n",
    "\n",
    "    rng = np.random.default_rng(seed)\n",
    "    rand_mat = rng.random((m,m))  # generate random matrix in m x m\n",
    "    Q, _ = np.linalg.qr(rand_mat) # get orthonormal basis in Rm\n",
    "    return Q[:,:n]                # get m x n frame matrix\n",
    "\n",
    "\n",
    "def gs_phaseless(magnitude, frame, num_iter=200, seed=None):\n",
    "    '''\n",
    "    Gerchberg-Saxton phaseless retrieval.\n",
    "\n",
    "    x(i) -> X(i) -> Y(i) -> y(i) -> x(i+1)\n",
    "    - x(i)                         : current approximation\n",
    "    - X(i) = F x(i)                : analysis projection\n",
    "    - Y(i) = C1 X(i)               : frame-domain constraint\n",
    "    - y(i) = F* Y(i)               : synthesis projection\n",
    "    - x(i+1) = MinErr{y(i), -y(i)} : new approximation\n",
    "    '''\n",
    "    # make sure magnitudes and frames are formatted nicely\n",
    "    b = np.asarray(magnitude)\n",
    "    F = np.asarray(frame)\n",
    "    # get frame dimensions\n",
    "    n = F.shape[1]\n",
    "    # get random guess\n",
    "    x0 = randunif(n, -1, 1, seed=seed)\n",
    "    # projection error function\n",
    "    err = lambda z : np.linalg.norm(np.abs(F.dot(z)) - magnitude)\n",
    "\n",
    "    # do GS iterations\n",
    "    for i in range(num_iter):\n",
    "        # project with analysis operator\n",
    "        X0 = F @ x0\n",
    "        # assert magnitude for estimated phase (sign)\n",
    "        Y0 = b * np.exp(1j * np.angle(X0))\n",
    "        # reconstruct with synthesis operator\n",
    "        y0 = F.T @ Y0\n",
    "        # get x0 with minimum error\n",
    "        x0 = y0 if err(y0) < err(-y0) else -y0\n",
    "        # real condition\n",
    "        x0 = np.real(x0)\n",
    "    return x0\n",
    "\n",
    "def stemplot(x, x0, xlabel=\"original\", x0label=\"retrieved\"):\n",
    "    n = np.shape(x)[0]\n",
    "    ii = np.linspace(0,1,n)\n",
    "    plt.stem(ii, x, label=xlabel)\n",
    "    plt.stem(ii, x0,':r', label=x0label)\n",
    "    plt.legend()\n",
    "    plt.show()"
   ]
  },
  {
   "cell_type": "markdown",
   "metadata": {},
   "source": [
    "Main Routine\n",
    "------------\n",
    "1. Choose dimension $n$ of input space.\n",
    "2. Choose redundancy $r$.\n",
    "3. Generate the vector $x = [x_1, x_2, \\dots, x_n]^\\top \\in \\mathbb{R}^n$ we are trying to reconstruct.\n",
    "4. Generate a random frame $(f_i)_{i=1}^n$.\n",
    "5. Get the magnitude measurements along the frame vectors $b_j = \\left|\\sum_{i=1}^n \\langle x_i, f_{ij} \\rangle\\right|$.\n",
    "6. Do the GS algorithm to estimate $x$.\n",
    "7. Compute error and plot solution against known vector.\n",
    "\n",
    "Right now, this method is only converging for redundancy $r > \\frac{3}{4}n$.\n",
    "I think this is because we are reducing error at every iteration.\n",
    "In this situation, our solution gets stuck in a local minimum.\n",
    "Other algorithms apply a weight parameter to pull the solution away from these local minima."
   ]
  },
  {
   "cell_type": "code",
   "execution_count": 2,
   "metadata": {},
   "outputs": [
    {
     "name": "stdout",
     "output_type": "stream",
     "text": [
      "Approximation error: 9.800562044244752e-16\n"
     ]
    },
    {
     "data": {
      "image/png": "[encoded data removed]",
      "text/plain": [
       "<Figure size 640x480 with 1 Axes>"
      ]
     },
     "metadata": {},
     "output_type": "display_data"
    }
   ],
   "source": [
    "# dimension of input space\n",
    "n = 21\n",
    "# frame redundancy\n",
    "r = n/2 + 5\n",
    "# r = n/2 # uncomment to see the problem with redundancy\n",
    "# frame dimension\n",
    "m = int(r*n)\n",
    "\n",
    "# generate random vector\n",
    "x = randunif(n, -1, 1, seed=1231)\n",
    "# generate random frame\n",
    "F = random_frame(n, r, seed=1121)\n",
    "# get known magnitude measurements wrt frame\n",
    "magnitude = np.abs(F.dot(x))\n",
    "\n",
    "# do phase retrieval\n",
    "x0 = gs_phaseless(magnitude, F, seed=4321)\n",
    "# compute errors\n",
    "err_pos = np.linalg.norm(x-x0)\n",
    "err_neg = np.linalg.norm(x+x0)\n",
    "# fix sign\n",
    "x0 = -x0 if err_neg < err_pos else x0\n",
    "err = np.min([err_pos, err_neg])\n",
    "print(f\"Approximation error: {err}\")\n",
    "\n",
    "# plot\n",
    "stemplot(x, x0)"
   ]
  }
 ],
 "metadata": {
  "kernelspec": {
   "display_name": "Python 3",
   "language": "python",
   "name": "python3"
  },
  "language_info": {
   "codemirror_mode": {
    "name": "ipython",
    "version": 3
   },
   "file_extension": ".py",
   "mimetype": "text/x-python",
   "name": "python",
   "nbconvert_exporter": "python",
   "pygments_lexer": "ipython3",
   "version": "3.11.2"
  }
 },
 "nbformat": 4,
 "nbformat_minor": 2
}
